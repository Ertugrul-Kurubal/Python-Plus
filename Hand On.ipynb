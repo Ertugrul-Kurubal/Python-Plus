{
 "metadata": {
  "language_info": {
   "codemirror_mode": {
    "name": "ipython",
    "version": 3
   },
   "file_extension": ".py",
   "mimetype": "text/x-python",
   "name": "python",
   "nbconvert_exporter": "python",
   "pygments_lexer": "ipython3",
   "version": "3.9.0-final"
  },
  "orig_nbformat": 2,
  "kernelspec": {
   "name": "python390jvsc74a57bd043a9cd95aa030499ef934e4da31e07dde54f3fc3a1fd0cc4aeef7f16459ee2ac",
   "display_name": "Python 3.9.0 64-bit"
  }
 },
 "nbformat": 4,
 "nbformat_minor": 2,
 "cells": [
  {
   "cell_type": "code",
   "execution_count": 1,
   "metadata": {
    "tags": []
   },
   "outputs": [
    {
     "output_type": "stream",
     "name": "stdout",
     "text": [
      " stiff !\n",
      "-- This parrot wouldn't voom if you put 1000 volts through it.\n",
      "-- Lovely plumage, the Norwegian Blue\n",
      "-- It's a stiff !\n",
      "-- This parrot wouldn't voom if you put 1000 volts through it.\n",
      "-- Lovely plumage, the Norwegian Blue\n",
      "-- It's a stiff !\n",
      "-- This parrot wouldn't voom if you put 1000 volts through it.\n",
      "-- Lovely plumage, the Norwegian Blue\n",
      "-- It's a stiff !\n",
      "-- This parrot wouldn't voom if you put 1000 volts through it.\n",
      "-- Lovely plumage, the Norwegian Blue\n",
      "-- It's a stiff !\n",
      "-- This parrot wouldn't voom if you put 1000 volts through it.\n",
      "-- Lovely plumage, the Norwegian Blue\n",
      "-- It's a stiff !\n",
      "-- This parrot wouldn't voom if you put 1000 volts through it.\n",
      "-- Lovely plumage, the Norwegian Blue\n",
      "-- It's a stiff !\n",
      "-- This parrot wouldn't voom if you put 1000 volts through it.\n",
      "-- Lovely plumage, the Norwegian Blue\n",
      "-- It's a stiff !\n",
      "-- This parrot wouldn't voom if you put 1000 volts through it.\n",
      "-- Lovely plumage, the Norwegian Blue\n",
      "-- It's a stiff !\n",
      "-- This parrot wouldn't voom if you put 1000 volts through it.\n",
      "-- Lovely plumage, the Norwegian Blue\n",
      "-- It's a stiff !\n",
      "-- This parrot wouldn't voom if you put 1000 volts through it.\n",
      "-- Lovely plumage, the Norwegian Blue\n",
      "-- It's a stiff !\n",
      "-- This parrot wouldn't voom if you put 1000 volts through it.\n",
      "-- Lovely plumage, the Norwegian Blue\n",
      "-- It's a stiff !\n",
      "-- This parrot wouldn't voom if you put 1000 volts through it.\n",
      "-- Lovely plumage, the Norwegian Blue\n",
      "-- It's a stiff !\n",
      "-- This parrot wouldn't voom if you put 1000 volts through it.\n",
      "-- Lovely plumage, the Norwegian Blue\n",
      "-- It's a stiff !\n",
      "-- This parrot wouldn't voom if you put 1000 volts through it.\n",
      "-- Lovely plumage, the Norwegian Blue\n",
      "-- It's a stiff !\n",
      "-- This parrot wouldn't voom if you put 1000 volts through it.\n",
      "-- Lovely plumage, the Norwegian Blue\n",
      "-- It's a stiff !\n",
      "-- This parrot wouldn't voom if you put 1000 volts through it.\n",
      "-- Lovely plumage, the Norwegian Blue\n",
      "-- It's a stiff !\n",
      "-- This parrot wouldn't voom if you put 1000 volts through it.\n",
      "-- Lovely plumage, the Norwegian Blue\n",
      "-- It's a stiff !\n",
      "-- This parrot wouldn't voom if you put 1000 volts through it.\n",
      "-- Lovely plumage, the Norwegian Blue\n",
      "-- It's a stiff !\n",
      "-- This parrot wouldn't voom if you put 1000 volts through it.\n",
      "-- Lovely plumage, the Norwegian Blue\n",
      "-- It's a stiff !\n",
      "-- This parrot wouldn't voom if you put 1000 volts through it.\n",
      "-- Lovely plumage, the Norwegian Blue\n",
      "-- It's a stiff !\n",
      "-- This parrot wouldn't voom if you put 1000 volts through it.\n",
      "-- Lovely plumage, the Norwegian Blue\n",
      "-- It's a stiff !\n",
      "-- This parrot wouldn't voom if you put 1000 volts through it.\n",
      "-- Lovely plumage, the Norwegian Blue\n",
      "-- It's a stiff !\n",
      "-- This parrot wouldn't voom if you put 1000 volts through it.\n",
      "-- Lovely plumage, the Norwegian Blue\n",
      "-- It's a stiff !\n",
      "-- This parrot wouldn't voom if you put 1000 volts through it.\n",
      "-- Lovely plumage, the Norwegian Blue\n",
      "-- It's a stiff !\n",
      "-- This parrot wouldn't voom if you put 1000 volts through it.\n",
      "-- Lovely plumage, the Norwegian Blue\n",
      "-- It's a stiff !\n",
      "-- This parrot wouldn't voom if you put 1000 volts through it.\n",
      "-- Lovely plumage, the Norwegian Blue\n",
      "-- It's a stiff !\n",
      "-- This parrot wouldn't voom if you put 1000 volts through it.\n",
      "-- Lovely plumage, the Norwegian Blue\n",
      "-- It's a stiff !\n",
      "-- This parrot wouldn't voom if you put 1000 volts through it.\n",
      "-- Lovely plumage, the Norwegian Blue\n",
      "-- It's a stiff !\n",
      "-- This parrot wouldn't voom if you put 1000 volts through it.\n",
      "-- Lovely plumage, the Norwegian Blue\n",
      "-- It's a stiff !\n",
      "-- This parrot wouldn't voom if you put 1000 volts through it.\n",
      "-- Lovely plumage, the Norwegian Blue\n",
      "-- It's a stiff !\n",
      "-- This parrot wouldn't voom if you put 1000 volts through it.\n",
      "-- Lovely plumage, the Norwegian Blue\n",
      "-- It's a stiff !\n",
      "-- This parrot wouldn't voom if you put 1000 volts through it.\n",
      "-- Lovely plumage, the Norwegian Blue\n",
      "-- It's a stiff !\n",
      "-- This parrot wouldn't voom if you put 1000 volts through it.\n",
      "-- Lovely plumage, the Norwegian Blue\n",
      "-- It's a stiff !\n",
      "-- This parrot wouldn't voom if you put 1000 volts through it.\n",
      "-- Lovely plumage, the Norwegian Blue\n",
      "-- It's a stiff !\n",
      "-- This parrot wouldn't voom if you put 1000 volts through it.\n",
      "-- Lovely plumage, the Norwegian Blue\n",
      "-- It's a stiff !\n",
      "-- This parrot wouldn't voom if you put 1000 volts through it.\n",
      "-- Lovely plumage, the Norwegian Blue\n",
      "-- It's a stiff !\n",
      "-- This parrot wouldn't voom if you put 1000 volts through it.\n",
      "-- Lovely plumage, the Norwegian Blue\n",
      "-- It's a stiff !\n",
      "-- This parrot wouldn't voom if you put 1000 volts through it.\n",
      "-- Lovely plumage, the Norwegian Blue\n",
      "-- It's a stiff !\n",
      "-- This parrot wouldn't voom if you put 1000 volts through it.\n",
      "-- Lovely plumage, the Norwegian Blue\n",
      "-- It's a stiff !\n",
      "-- This parrot wouldn't voom if you put 1000 volts through it.\n",
      "-- Lovely plumage, the Norwegian Blue\n",
      "-- It's a stiff !\n",
      "-- This parrot wouldn't voom if you put 1000 volts through it.\n",
      "-- Lovely plumage, the Norwegian Blue\n",
      "-- It's a stiff !\n",
      "-- This parrot wouldn't voom if you put 1000 volts through it.\n",
      "-- Lovely plumage, the Norwegian Blue\n",
      "-- It's a stiff !\n",
      "-- This parrot wouldn't voom if you put 1000 volts through it.\n",
      "-- Lovely plumage, the Norwegian Blue\n",
      "-- It's a stiff !\n",
      "-- This parrot wouldn't voom if you put 1000 volts through it.\n",
      "-- Lovely plumage, the Norwegian Blue\n",
      "-- It's a stiff !\n",
      "-- This parrot wouldn't voom if you put 1000 volts through it.\n",
      "-- Lovely plumage, the Norwegian Blue\n",
      "-- It's a stiff !\n",
      "-- This parrot wouldn't voom if you put 1000 volts through it.\n",
      "-- Lovely plumage, the Norwegian Blue\n",
      "-- It's a stiff !\n",
      "-- This parrot wouldn't voom if you put 1000 volts through it.\n",
      "-- Lovely plumage, the Norwegian Blue\n",
      "-- It's a stiff !\n",
      "-- This parrot wouldn't voom if you put 1000 volts through it.\n",
      "-- Lovely plumage, the Norwegian Blue\n",
      "-- It's a stiff !\n",
      "-- This parrot wouldn't voom if you put 1000 volts through it.\n",
      "-- Lovely plumage, the Norwegian Blue\n",
      "-- It's a stiff !\n",
      "-- This parrot wouldn't voom if you put 1000 volts through it.\n",
      "-- Lovely plumage, the Norwegian Blue\n",
      "-- It's a stiff !\n",
      "-- This parrot wouldn't voom if you put 1000 volts through it.\n",
      "-- Lovely plumage, the Norwegian Blue\n",
      "-- It's a stiff !\n",
      "-- This parrot wouldn't voom if you put 1000 volts through it.\n",
      "-- Lovely plumage, the Norwegian Blue\n",
      "-- It's a stiff !\n",
      "-- This parrot wouldn't voom if you put 1000 volts through it.\n",
      "-- Lovely plumage, the Norwegian Blue\n",
      "-- It's a stiff !\n",
      "-- This parrot wouldn't voom if you put 1000 volts through it.\n",
      "-- Lovely plumage, the Norwegian Blue\n",
      "-- It's a stiff !\n",
      "-- This parrot wouldn't voom if you put 1000 volts through it.\n",
      "-- Lovely plumage, the Norwegian Blue\n",
      "-- It's a stiff !\n",
      "-- This parrot wouldn't voom if you put 1000 volts through it.\n",
      "-- Lovely plumage, the Norwegian Blue\n",
      "-- It's a stiff !\n",
      "-- This parrot wouldn't voom if you put 1000 volts through it.\n",
      "-- Lovely plumage, the Norwegian Blue\n",
      "-- It's a stiff !\n",
      "-- This parrot wouldn't voom if you put 1000 volts through it.\n",
      "-- Lovely plumage, the Norwegian Blue\n",
      "-- It's a stiff !\n",
      "-- This parrot wouldn't voom if you put 1000 volts through it.\n",
      "-- Lovely plumage, the Norwegian Blue\n",
      "-- It's a stiff !\n",
      "-- This parrot wouldn't voom if you put 1000 volts through it.\n",
      "-- Lovely plumage, the Norwegian Blue\n",
      "-- It's a stiff !\n",
      "-- This parrot wouldn't voom if you put 1000 volts through it.\n",
      "-- Lovely plumage, the Norwegian Blue\n",
      "-- It's a stiff !\n",
      "-- This parrot wouldn't voom if you put 1000 volts through it.\n",
      "-- Lovely plumage, the Norwegian Blue\n",
      "-- It's a stiff !\n",
      "-- This parrot wouldn't voom if you put 1000 volts through it.\n",
      "-- Lovely plumage, the Norwegian Blue\n",
      "-- It's a stiff !\n",
      "-- This parrot wouldn't voom if you put 1000 volts through it.\n",
      "-- Lovely plumage, the Norwegian Blue\n",
      "-- It's a stiff !\n",
      "-- This parrot wouldn't voom if you put 1000 volts through it.\n",
      "-- Lovely plumage, the Norwegian Blue\n",
      "-- It's a stiff !\n",
      "-- This parrot wouldn't voom if you put 1000 volts through it.\n",
      "-- Lovely plumage, the Norwegian Blue\n",
      "-- It's a stiff !\n",
      "-- This parrot wouldn't voom if you put 1000 volts through it.\n",
      "-- Lovely plumage, the Norwegian Blue\n",
      "-- It's a stiff !\n",
      "-- This parrot wouldn't voom if you put 1000 volts through it.\n",
      "-- Lovely plumage, the Norwegian Blue\n",
      "-- It's a stiff !\n",
      "-- This parrot wouldn't voom if you put 1000 volts through it.\n",
      "-- Lovely plumage, the Norwegian Blue\n",
      "-- It's a stiff !\n",
      "-- This parrot wouldn't voom if you put 1000 volts through it.\n",
      "-- Lovely plumage, the Norwegian Blue\n",
      "-- It's a stiff !\n",
      "-- This parrot wouldn't voom if you put 1000 volts through it.\n",
      "-- Lovely plumage, the Norwegian Blue\n",
      "-- It's a stiff !\n",
      "-- This parrot wouldn't voom if you put 1000 volts through it.\n",
      "-- Lovely plumage, the Norwegian Blue\n",
      "-- It's a stiff !\n",
      "-- This parrot wouldn't voom if you put 1000 volts through it.\n",
      "-- Lovely plumage, the Norwegian Blue\n",
      "-- It's a stiff !\n",
      "-- This parrot wouldn't voom if you put 1000 volts through it.\n",
      "-- Lovely plumage, the Norwegian Blue\n",
      "-- It's a stiff !\n",
      "-- This parrot wouldn't voom if you put 1000 volts through it.\n",
      "-- Lovely plumage, the Norwegian Blue\n",
      "-- It's a stiff !\n",
      "-- This parrot wouldn't voom if you put 1000 volts through it.\n",
      "-- Lovely plumage, the Norwegian Blue\n",
      "-- It's a stiff !\n",
      "-- This parrot wouldn't voom if you put 1000 volts through it.\n",
      "-- Lovely plumage, the Norwegian Blue\n",
      "-- It's a stiff !\n",
      "-- This parrot wouldn't voom if you put 1000 volts through it.\n",
      "-- Lovely plumage, the Norwegian Blue\n",
      "-- It's a stiff !\n",
      "-- This parrot wouldn't voom if you put 1000 volts through it.\n",
      "-- Lovely plumage, the Norwegian Blue\n",
      "-- It's a stiff !\n",
      "-- This parrot wouldn't voom if you put 1000 volts through it.\n",
      "-- Lovely plumage, the Norwegian Blue\n",
      "-- It's a stiff !\n",
      "-- This parrot wouldn't voom if you put 1000 volts through it.\n",
      "-- Lovely plumage, the Norwegian Blue\n",
      "-- It's a stiff !\n",
      "-- This parrot wouldn't voom if you put 1000 volts through it.\n",
      "-- Lovely plumage, the Norwegian Blue\n",
      "-- It's a stiff !\n",
      "-- This parrot wouldn't voom if you put 1000 volts through it.\n",
      "-- Lovely plumage, the Norwegian Blue\n",
      "-- It's a stiff !\n",
      "-- This parrot wouldn't voom if you put 1000 volts through it.\n",
      "-- Lovely plumage, the Norwegian Blue\n",
      "-- It's a stiff !\n",
      "-- This parrot wouldn't voom if you put 1000 volts through it.\n",
      "-- Lovely plumage, the Norwegian Blue\n",
      "-- It's a stiff !\n",
      "-- This parrot wouldn't voom if you put 1000 volts through it.\n",
      "-- Lovely plumage, the Norwegian Blue\n",
      "-- It's a stiff !\n",
      "-- This parrot wouldn't voom if you put 1000 volts through it.\n",
      "-- Lovely plumage, the Norwegian Blue\n",
      "-- It's a stiff !\n",
      "-- This parrot wouldn't voom if you put 1000 volts through it.\n",
      "-- Lovely plumage, the Norwegian Blue\n",
      "-- It's a stiff !\n",
      "-- This parrot wouldn't voom if you put 1000 volts through it.\n",
      "-- Lovely plumage, the Norwegian Blue\n",
      "-- It's a stiff !\n",
      "-- This parrot wouldn't voom if you put 1000 volts through it.\n",
      "-- Lovely plumage, the Norwegian Blue\n",
      "-- It's a stiff !\n",
      "-- This parrot wouldn't voom if you put 1000 volts through it.\n",
      "-- Lovely plumage, the Norwegian Blue\n",
      "-- It's a stiff !\n",
      "-- This parrot wouldn't voom if you put 1000 volts through it.\n",
      "-- Lovely plumage, the Norwegian Blue\n",
      "-- It's a stiff !\n",
      "-- This parrot wouldn't voom if you put 1000 volts through it.\n",
      "-- Lovely plumage, the Norwegian Blue\n",
      "-- It's a stiff !\n",
      "-- This parrot wouldn't voom if you put 1000 volts through it.\n",
      "-- Lovely plumage, the Norwegian Blue\n",
      "-- It's a stiff !\n",
      "-- This parrot wouldn't voom if you put 1000 volts through it.\n",
      "-- Lovely plumage, the Norwegian Blue\n",
      "-- It's a stiff !\n",
      "-- This parrot wouldn't voom if you put 1000 volts through it.\n",
      "-- Lovely plumage, the Norwegian Blue\n",
      "-- It's a stiff !\n",
      "-- This parrot wouldn't voom if you put 1000 volts through it.\n",
      "-- Lovely plumage, the Norwegian Blue\n",
      "-- It's a stiff !\n",
      "-- This parrot wouldn't voom if you put 1000 volts through it.\n",
      "-- Lovely plumage, the Norwegian Blue\n",
      "-- It's a stiff !\n",
      "-- This parrot wouldn't voom if you put 1000 volts through it.\n",
      "-- Lovely plumage, the Norwegian Blue\n",
      "-- It's a stiff !\n",
      "-- This parrot wouldn't voom if you put 1000 volts through it.\n",
      "-- Lovely plumage, the Norwegian Blue\n",
      "-- It's a stiff !\n",
      "-- This parrot wouldn't voom if you put 1000 volts through it.\n",
      "-- Lovely plumage, the Norwegian Blue\n",
      "-- It's a stiff !\n",
      "-- This parrot wouldn't voom if you put 1000 volts through it.\n",
      "-- Lovely plumage, the Norwegian Blue\n",
      "-- It's a stiff !\n",
      "-- This parrot wouldn't voom if you put 1000 volts through it.\n",
      "-- Lovely plumage, the Norwegian Blue\n",
      "-- It's a stiff !\n",
      "-- This parrot wouldn't voom if you put 1000 volts through it.\n",
      "-- Lovely plumage, the Norwegian Blue\n",
      "-- It's a stiff !\n",
      "-- This parrot wouldn't voom if you put 1000 volts through it.\n",
      "-- Lovely plumage, the Norwegian Blue\n",
      "-- It's a stiff !\n",
      "-- This parrot wouldn't voom if you put 1000 volts through it.\n",
      "-- Lovely plumage, the Norwegian Blue\n",
      "-- It's a stiff !\n",
      "-- This parrot wouldn't voom if you put 1000 volts through it.\n",
      "-- Lovely plumage, the Norwegian Blue\n",
      "-- It's a stiff !\n",
      "-- This parrot wouldn't voom if you put 1000 volts through it.\n",
      "-- Lovely plumage, the Norwegian Blue\n",
      "-- It's a stiff !\n",
      "-- This parrot wouldn't voom if you put 1000 volts through it.\n",
      "-- Lovely plumage, the Norwegian Blue\n",
      "-- It's a stiff !\n",
      "-- This parrot wouldn't voom if you put 1000 volts through it.\n",
      "-- Lovely plumage, the Norwegian Blue\n",
      "-- It's a stiff !\n",
      "-- This parrot wouldn't voom if you put 1000 volts through it.\n",
      "-- Lovely plumage, the Norwegian Blue\n",
      "-- It's a stiff !\n",
      "-- This parrot wouldn't voom if you put 1000 volts through it.\n",
      "-- Lovely plumage, the Norwegian Blue\n",
      "-- It's a stiff !\n",
      "-- This parrot wouldn't voom if you put 1000 volts through it.\n",
      "-- Lovely plumage, the Norwegian Blue\n",
      "-- It's a stiff !\n",
      "-- This parrot wouldn't voom if you put 1000 volts through it.\n",
      "-- Lovely plumage, the Norwegian Blue\n",
      "-- It's a stiff !\n",
      "-- This parrot wouldn't voom if you put 1000 volts through it.\n",
      "-- Lovely plumage, the Norwegian Blue\n",
      "-- It's a stiff !\n",
      "-- This parrot wouldn't voom if you put 1000 volts through it.\n",
      "-- Lovely plumage, the Norwegian Blue\n",
      "-- It's a stiff !\n",
      "-- This parrot wouldn't voom if you put 1000 volts through it.\n",
      "-- Lovely plumage, the Norwegian Blue\n",
      "-- It's a stiff !\n",
      "-- This parrot wouldn't voom if you put 1000 volts through it.\n",
      "-- Lovely plumage, the Norwegian Blue\n",
      "-- It's a stiff !\n",
      "-- This parrot wouldn't voom if you put 1000 volts through it.\n",
      "-- Lovely plumage, the Norwegian Blue\n",
      "-- It's a stiff !\n",
      "-- This parrot wouldn't voom if you put 1000 volts through it.\n",
      "-- Lovely plumage, the Norwegian Blue\n",
      "-- It's a stiff !\n",
      "-- This parrot wouldn't voom if you put 1000 volts through it.\n",
      "-- Lovely plumage, the Norwegian Blue\n",
      "-- It's a stiff !\n",
      "-- This parrot wouldn't voom if you put 1000 volts through it.\n",
      "-- Lovely plumage, the Norwegian Blue\n",
      "-- It's a stiff !\n",
      "-- This parrot wouldn't voom if you put 1000 volts through it.\n",
      "-- Lovely plumage, the Norwegian Blue\n",
      "-- It's a stiff !\n",
      "-- This parrot wouldn't voom if you put 1000 volts through it.\n",
      "-- Lovely plumage, the Norwegian Blue\n",
      "-- It's a stiff !\n",
      "-- This parrot wouldn't voom if you put 1000 volts through it.\n",
      "-- Lovely plumage, the Norwegian Blue\n",
      "-- It's a stiff !\n",
      "-- This parrot wouldn't voom if you put 1000 volts through it.\n",
      "-- Lovely plumage, the Norwegian Blue\n",
      "-- It's a stiff !\n",
      "-- This parrot wouldn't voom if you put 1000 volts through it.\n",
      "-- Lovely plumage, the Norwegian Blue\n",
      "-- It's a stiff !\n",
      "-- This parrot wouldn't voom if you put 1000 volts through it.\n",
      "-- Lovely plumage, the Norwegian Blue\n",
      "-- It's a stiff !\n",
      "-- This parrot wouldn't voom if you put 1000 volts through it.\n",
      "-- Lovely plumage, the Norwegian Blue\n",
      "-- It's a stiff !\n",
      "-- This parrot wouldn't voom if you put 1000 volts through it.\n",
      "-- Lovely plumage, the Norwegian Blue\n",
      "-- It's a stiff !\n",
      "-- This parrot wouldn't voom if you put 1000 volts through it.\n",
      "-- Lovely plumage, the Norwegian Blue\n",
      "-- It's a stiff !\n",
      "-- This parrot wouldn't voom if you put 1000 volts through it.\n",
      "-- Lovely plumage, the Norwegian Blue\n",
      "-- It's a stiff !\n",
      "-- This parrot wouldn't voom if you put 1000 volts through it.\n",
      "-- Lovely plumage, the Norwegian Blue\n",
      "-- It's a stiff !\n",
      "-- This parrot wouldn't voom if you put 1000 volts through it.\n",
      "-- Lovely plumage, the Norwegian Blue\n",
      "-- It's a stiff !\n",
      "-- This parrot wouldn't voom if you put 1000 volts through it.\n",
      "-- Lovely plumage, the Norwegian Blue\n",
      "-- It's a stiff !\n",
      "-- This parrot wouldn't voom if you put 1000 volts through it.\n",
      "-- Lovely plumage, the Norwegian Blue\n",
      "-- It's a stiff !\n",
      "-- This parrot wouldn't voom if you put 1000 volts through it.\n",
      "-- Lovely plumage, the Norwegian Blue\n",
      "-- It's a stiff !\n",
      "-- This parrot wouldn't voom if you put 1000 volts through it.\n",
      "-- Lovely plumage, the Norwegian Blue\n",
      "-- It's a stiff !\n",
      "-- This parrot wouldn't voom if you put 1000 volts through it.\n",
      "-- Lovely plumage, the Norwegian Blue\n",
      "-- It's a stiff !\n",
      "-- This parrot wouldn't voom if you put 1000 volts through it.\n",
      "-- Lovely plumage, the Norwegian Blue\n",
      "-- It's a stiff !\n",
      "-- This parrot wouldn't voom if you put 1000 volts through it.\n",
      "-- Lovely plumage, the Norwegian Blue\n",
      "-- It's a stiff !\n",
      "-- This parrot wouldn't voom if you put 1000 volts through it.\n",
      "-- Lovely plumage, the Norwegian Blue\n",
      "-- It's a stiff !\n",
      "-- This parrot wouldn't voom if you put 1000 volts through it.\n",
      "-- Lovely plumage, the Norwegian Blue\n",
      "-- It's a stiff !\n",
      "-- This parrot wouldn't voom if you put 1000 volts through it.\n",
      "-- Lovely plumage, the Norwegian Blue\n",
      "-- It's a stiff !\n",
      "-- This parrot wouldn't voom if you put 1000 volts through it.\n",
      "-- Lovely plumage, the Norwegian Blue\n",
      "-- It's a stiff !\n",
      "-- This parrot wouldn't voom if you put 1000 volts through it.\n",
      "-- Lovely plumage, the Norwegian Blue\n",
      "-- It's a stiff !\n",
      "-- This parrot wouldn't voom if you put 1000 volts through it.\n",
      "-- Lovely plumage, the Norwegian Blue\n",
      "-- It's a stiff !\n",
      "-- This parrot wouldn't voom if you put 1000 volts through it.\n",
      "-- Lovely plumage, the Norwegian Blue\n",
      "-- It's a stiff !\n",
      "-- This parrot wouldn't voom if you put 1000 volts through it.\n",
      "-- Lovely plumage, the Norwegian Blue\n",
      "-- It's a stiff !\n",
      "-- This parrot wouldn't voom if you put 1000 volts through it.\n",
      "-- Lovely plumage, the Norwegian Blue\n",
      "-- It's a stiff !\n",
      "-- This parrot wouldn't voom if you put 1000 volts through it.\n",
      "-- Lovely plumage, the Norwegian Blue\n",
      "-- It's a stiff !\n",
      "-- This parrot wouldn't voom if you put 1000 volts through it.\n",
      "-- Lovely plumage, the Norwegian Blue\n",
      "-- It's a stiff !\n",
      "-- This parrot wouldn't voom if you put 1000 volts through it.\n",
      "-- Lovely plumage, the Norwegian Blue\n",
      "-- It's a stiff !\n",
      "-- This parrot wouldn't voom if you put 1000 volts through it.\n",
      "-- Lovely plumage, the Norwegian Blue\n",
      "-- It's a stiff !\n",
      "-- This parrot wouldn't voom if you put 1000 volts through it.\n",
      "-- Lovely plumage, the Norwegian Blue\n",
      "-- It's a stiff !\n",
      "-- This parrot wouldn't voom if you put 1000 volts through it.\n",
      "-- Lovely plumage, the Norwegian Blue\n",
      "-- It's a stiff !\n",
      "-- This parrot wouldn't voom if you put 1000 volts through it.\n",
      "-- Lovely plumage, the Norwegian Blue\n",
      "-- It's a stiff !\n",
      "-- This parrot wouldn't voom if you put 1000 volts through it.\n",
      "-- Lovely plumage, the Norwegian Blue\n",
      "-- It's a stiff !\n",
      "-- This parrot wouldn't voom if you put 1000 volts through it.\n",
      "-- Lovely plumage, the Norwegian Blue\n",
      "-- It's a stiff !\n",
      "-- This parrot wouldn't voom if you put 1000 volts through it.\n",
      "-- Lovely plumage, the Norwegian Blue\n",
      "-- It's a stiff !\n",
      "-- This parrot wouldn't voom if you put 1000 volts through it.\n",
      "-- Lovely plumage, the Norwegian Blue\n",
      "-- It's a stiff !\n",
      "-- This parrot wouldn't voom if you put 1000 volts through it.\n",
      "-- Lovely plumage, the Norwegian Blue\n",
      "-- It's a stiff !\n",
      "-- This parrot wouldn't voom if you put 1000 volts through it.\n",
      "-- Lovely plumage, the Norwegian Blue\n",
      "-- It's a stiff !\n",
      "-- This parrot wouldn't voom if you put 1000 volts through it.\n",
      "-- Lovely plumage, the Norwegian Blue\n",
      "-- It's a stiff !\n",
      "-- This parrot wouldn't voom if you put 1000 volts through it.\n",
      "-- Lovely plumage, the Norwegian Blue\n",
      "-- It's a stiff !\n",
      "-- This parrot wouldn't voom if you put 1000 volts through it.\n",
      "-- Lovely plumage, the Norwegian Blue\n",
      "-- It's a stiff !\n",
      "-- This parrot wouldn't voom if you put 1000 volts through it.\n",
      "-- Lovely plumage, the Norwegian Blue\n",
      "-- It's a stiff !\n",
      "-- This parrot wouldn't voom if you put 1000 volts through it.\n",
      "-- Lovely plumage, the Norwegian Blue\n",
      "-- It's a stiff !"
     ]
    }
   ],
   "source": [
    "def parrot(voltage, state='a stiff', action='voom', type='Norwegian Blue'):\n",
    "    print(\"-- This parrot wouldn't\", action, end=' ')\n",
    "    print(\"if you put\", voltage, \"volts through it.\")\n",
    "    print(\"-- Lovely plumage, the\", type)\n",
    "    print(\"-- It's\", state, \"!\")\n",
    "\n",
    "parrot(1000)                                          # 1 positional argument\n",
    "parrot(voltage=1000)                                  # 1 keyword argument\n",
    "parrot(voltage=1000000, action='VOOOOOM')             # 2 keyword arguments\n",
    "parrot(action='VOOOOOM', voltage=1000000)             # 2 keyword arguments \n",
    "parrot('a million', 'bereft of life', 'jump')         # 3 positional arguments\n",
    "parrot('a thousand', state='pushing up the daisies')  # 1 positional, 1 keyword"
   ]
  },
  {
   "cell_type": "code",
   "execution_count": 1,
   "metadata": {},
   "outputs": [
    {
     "output_type": "stream",
     "name": "stdout",
     "text": [
      "I want to get orange and banana\n"
     ]
    }
   ],
   "source": [
    "def fruiterer(fruit1, fruit2) :\n",
    "    print('I want to get', fruit1, 'and', fruit2)\n",
    "            \n",
    "fruiterer('orange', 'banana')"
   ]
  },
  {
   "cell_type": "code",
   "execution_count": 1,
   "metadata": {},
   "outputs": [
    {
     "output_type": "stream",
     "name": "stdout",
     "text": [
      "I want to get :\n- orange\n- banana\n- melon\n- ananas\n"
     ]
    }
   ],
   "source": [
    "def fruiterer(*fruit) :\n",
    "    print('I want to get :')\n",
    "    for i in fruit :\n",
    "        print('-', i)\n",
    "                \n",
    "fruiterer('orange', 'banana', 'melon', 'ananas')"
   ]
  },
  {
   "cell_type": "code",
   "execution_count": 3,
   "metadata": {},
   "outputs": [
    {
     "output_type": "stream",
     "name": "stdout",
     "text": [
      "Lions are Carnivores\nBears are Omnivores\nDeers are Herbivores\nHuman are Nomnivores\n"
     ]
    }
   ],
   "source": [
    "def animals(**kwargs):\n",
    "    for key, value in kwargs.items():\n",
    "        print(value, \"are\", key) \n",
    "        \n",
    "animals(Carnivores=\"Lions\", Omnivores=\"Bears\", Herbivores=\"Deers\", Nomnivores=\"Human\")"
   ]
  },
  {
   "cell_type": "code",
   "execution_count": 4,
   "metadata": {},
   "outputs": [
    {
     "output_type": "stream",
     "name": "stdout",
     "text": [
      "Here are the names of brothers :\ntom\nsue\ntim\n"
     ]
    }
   ],
   "source": [
    "def brothers(bro1, bro2, bro3):\n",
    "    print('Here are the names of brothers :')\n",
    "    print(bro1, bro2, bro3, sep='\\n')\n",
    "    \n",
    "family = ['tom', 'sue', 'tim']\n",
    "brothers(*family)"
   ]
  },
  {
   "cell_type": "code",
   "execution_count": 5,
   "metadata": {},
   "outputs": [
    {
     "output_type": "stream",
     "name": "stdout",
     "text": [
      "Fred belongs to Generation X\nMarry belongs to Generation Y\n"
     ]
    }
   ],
   "source": [
    "def gene(x, y):  # defined by positional args\n",
    "    print(x, \"belongs to Generation X\")\n",
    "    print(y, \"belongs to Generation Y\") \n",
    "    \n",
    "dict_gene = {'y' : \"Marry\", 'x' : \"Fred\"}\n",
    "gene(**dict_gene)  # we call the function by a single argument(variable)"
   ]
  },
  {
   "cell_type": "code",
   "execution_count": 6,
   "metadata": {},
   "outputs": [
    {
     "output_type": "stream",
     "name": "stdout",
     "text": [
      "Fred belongs to Generation X\nMarry belongs to Generation Y\n"
     ]
    }
   ],
   "source": [
    "def gene(x, y):  # defined by positional args\n",
    "    print(x, \"belongs to Generation X\")\n",
    "    print(y, \"belongs to Generation Y\") \n",
    "    \n",
    "dict_gene = {'y' : \"Marry\", 'x' : \"Fred\"}\n",
    "gene(**dict_gene)  # we call the function by a single argument(variable)"
   ]
  },
  {
   "cell_type": "code",
   "execution_count": 7,
   "metadata": {},
   "outputs": [
    {
     "output_type": "stream",
     "name": "stdout",
     "text": [
      "Fred belongs to Generation X\nMarry belongs to Generation Y\n"
     ]
    }
   ],
   "source": [
    "def gene(x='Solomon', y='David'):  # defined by kwargs (default values assigned to x and y)\n",
    "    print(x, \"belongs to Generation X\")\n",
    "    print(y, \"belongs to Generation Y\")\n",
    "     \n",
    "dict_gene = {'y' : \"Marry\", 'x' : \"Fred\"}\n",
    "gene(**dict_gene) "
   ]
  },
  {
   "cell_type": "code",
   "execution_count": 5,
   "metadata": {},
   "outputs": [
    {
     "output_type": "stream",
     "name": "stdout",
     "text": [
      "5.0\n"
     ]
    }
   ],
   "source": [
    "# Triangle Hypotenuse\n",
    "def my_function(a, b):\n",
    "    hypotenuse = (a**2 + b**2)**0.5\n",
    "    return(hypotenuse)\n",
    "    \n",
    "print(my_function(3,4))"
   ]
  },
  {
   "cell_type": "code",
   "execution_count": 6,
   "metadata": {},
   "outputs": [
    {
     "output_type": "stream",
     "name": "stdout",
     "text": [
      "12\n"
     ]
    }
   ],
   "source": [
    "# Rectagle Area\n",
    "def my_function(a, b):\n",
    "    area = a * b\n",
    "    return(area)\n",
    "    \n",
    "print(my_function(3, 4))"
   ]
  },
  {
   "cell_type": "code",
   "execution_count": 7,
   "metadata": {},
   "outputs": [
    {
     "output_type": "stream",
     "name": "stdout",
     "text": [
      "Richard\n"
     ]
    }
   ],
   "source": [
    "def longer(a, b):\n",
    "    if len(a) >= len(b):\n",
    "        return(a)\n",
    "    else:\n",
    "        return(b)\n",
    "        \n",
    "print(longer('Richard', 'John'))"
   ]
  },
  {
   "cell_type": "code",
   "execution_count": 3,
   "metadata": {},
   "outputs": [
    {
     "output_type": "stream",
     "name": "stdout",
     "text": [
      "15\n"
     ]
    }
   ],
   "source": [
    "def my_function(): \n",
    "    x = 10 # fix me!\n",
    "    x += 5 \n",
    "    print(x)\n",
    "     \n",
    "my_function()"
   ]
  },
  {
   "cell_type": "code",
   "execution_count": 4,
   "metadata": {},
   "outputs": [
    {
     "output_type": "stream",
     "name": "stdout",
     "text": [
      "hellohellohello\n"
     ]
    }
   ],
   "source": [
    "echo_word = ((lambda x: 'hello'*x)(3))\n",
    "print(echo_word)"
   ]
  },
  {
   "cell_type": "code",
   "execution_count": 8,
   "metadata": {},
   "outputs": [
    {
     "output_type": "stream",
     "name": "stdout",
     "text": [
      "1\n"
     ]
    }
   ],
   "source": [
    "count = 1\n",
    "def counter():\n",
    "    global count\n",
    "    print(count)\n",
    "    count += 1    \n",
    "counter() "
   ]
  },
  {
   "cell_type": "code",
   "execution_count": 13,
   "metadata": {},
   "outputs": [
    {
     "output_type": "error",
     "ename": "UnboundLocalError",
     "evalue": "local variable 'count' referenced before assignment",
     "traceback": [
      "\u001b[1;31m---------------------------------------------------------------------------\u001b[0m",
      "\u001b[1;31mUnboundLocalError\u001b[0m                         Traceback (most recent call last)",
      "\u001b[1;32m<ipython-input-13-b36deac55cce>\u001b[0m in \u001b[0;36m<module>\u001b[1;34m\u001b[0m\n\u001b[0;32m      5\u001b[0m     \u001b[0mcount\u001b[0m \u001b[1;33m+=\u001b[0m \u001b[1;36m1\u001b[0m\u001b[1;33m\u001b[0m\u001b[1;33m\u001b[0m\u001b[0m\n\u001b[0;32m      6\u001b[0m \u001b[1;33m\u001b[0m\u001b[0m\n\u001b[1;32m----> 7\u001b[1;33m \u001b[0mcounter\u001b[0m\u001b[1;33m(\u001b[0m\u001b[1;33m)\u001b[0m\u001b[1;33m\u001b[0m\u001b[1;33m\u001b[0m\u001b[0m\n\u001b[0m",
      "\u001b[1;32m<ipython-input-13-b36deac55cce>\u001b[0m in \u001b[0;36mcounter\u001b[1;34m()\u001b[0m\n\u001b[0;32m      2\u001b[0m \u001b[1;33m\u001b[0m\u001b[0m\n\u001b[0;32m      3\u001b[0m \u001b[1;32mdef\u001b[0m \u001b[0mcounter\u001b[0m\u001b[1;33m(\u001b[0m\u001b[1;33m)\u001b[0m\u001b[1;33m:\u001b[0m\u001b[1;33m\u001b[0m\u001b[1;33m\u001b[0m\u001b[0m\n\u001b[1;32m----> 4\u001b[1;33m     \u001b[0mprint\u001b[0m\u001b[1;33m(\u001b[0m\u001b[0mcount\u001b[0m\u001b[1;33m)\u001b[0m\u001b[1;33m\u001b[0m\u001b[1;33m\u001b[0m\u001b[0m\n\u001b[0m\u001b[0;32m      5\u001b[0m     \u001b[0mcount\u001b[0m \u001b[1;33m+=\u001b[0m \u001b[1;36m1\u001b[0m\u001b[1;33m\u001b[0m\u001b[1;33m\u001b[0m\u001b[0m\n\u001b[0;32m      6\u001b[0m \u001b[1;33m\u001b[0m\u001b[0m\n",
      "\u001b[1;31mUnboundLocalError\u001b[0m: local variable 'count' referenced before assignment"
     ]
    }
   ],
   "source": [
    "count = 1\n",
    "def counter():\n",
    "    print(count)\n",
    "    count += 1    \n",
    "counter() "
   ]
  },
  {
   "cell_type": "code",
   "execution_count": 1,
   "metadata": {},
   "outputs": [
    {
     "output_type": "stream",
     "name": "stdout",
     "text": [
      "1\n\n"
     ]
    },
    {
     "output_type": "error",
     "ename": "UnboundLocalError",
     "evalue": "local variable 'count' referenced before assignment",
     "traceback": [
      "\u001b[1;31m---------------------------------------------------------------------------\u001b[0m",
      "\u001b[1;31mUnboundLocalError\u001b[0m                         Traceback (most recent call last)",
      "\u001b[1;32m<ipython-input-1-647fc70739cd>\u001b[0m in \u001b[0;36m<module>\u001b[1;34m\u001b[0m\n\u001b[0;32m     11\u001b[0m \u001b[1;33m\u001b[0m\u001b[0m\n\u001b[0;32m     12\u001b[0m \u001b[0mprint\u001b[0m\u001b[1;33m(\u001b[0m\u001b[1;33m)\u001b[0m  \u001b[1;31m# just empty line\u001b[0m\u001b[1;33m\u001b[0m\u001b[1;33m\u001b[0m\u001b[0m\n\u001b[1;32m---> 13\u001b[1;33m \u001b[0mcounter\u001b[0m\u001b[1;33m(\u001b[0m\u001b[1;33m)\u001b[0m\u001b[1;33m\u001b[0m\u001b[1;33m\u001b[0m\u001b[0m\n\u001b[0m",
      "\u001b[1;32m<ipython-input-1-647fc70739cd>\u001b[0m in \u001b[0;36mcounter\u001b[1;34m()\u001b[0m\n\u001b[0;32m      7\u001b[0m \u001b[1;33m\u001b[0m\u001b[0m\n\u001b[0;32m      8\u001b[0m \u001b[1;32mdef\u001b[0m \u001b[0mcounter\u001b[0m\u001b[1;33m(\u001b[0m\u001b[1;33m)\u001b[0m\u001b[1;33m:\u001b[0m\u001b[1;33m\u001b[0m\u001b[1;33m\u001b[0m\u001b[0m\n\u001b[1;32m----> 9\u001b[1;33m     \u001b[0mprint\u001b[0m\u001b[1;33m(\u001b[0m\u001b[0mcount\u001b[0m\u001b[1;33m)\u001b[0m\u001b[1;33m\u001b[0m\u001b[1;33m\u001b[0m\u001b[0m\n\u001b[0m\u001b[0;32m     10\u001b[0m     \u001b[0mcount\u001b[0m \u001b[1;33m+=\u001b[0m \u001b[1;36m1\u001b[0m  \u001b[1;31m# we're trying to change its value\u001b[0m\u001b[1;33m\u001b[0m\u001b[1;33m\u001b[0m\u001b[0m\n\u001b[0;32m     11\u001b[0m \u001b[1;33m\u001b[0m\u001b[0m\n",
      "\u001b[1;31mUnboundLocalError\u001b[0m: local variable 'count' referenced before assignment"
     ]
    }
   ],
   "source": [
    "count = 1\n",
    "def print_global():\n",
    "    print(count) \n",
    "print_global() \n",
    "def counter():\n",
    "    print(count)\n",
    "    count += 1  # we're trying to change its value \n",
    "print()  # just empty line\n",
    "counter() "
   ]
  },
  {
   "cell_type": "code",
   "execution_count": 12,
   "metadata": {},
   "outputs": [
    {
     "output_type": "stream",
     "name": "stdout",
     "text": [
      "1\n2\n3\n"
     ]
    }
   ],
   "source": [
    "count = 1\n",
    "def counter():\n",
    "    global count  # we've changed its scope\n",
    "    print(count)  # it's global anymore\n",
    "    count += 1 \n",
    "counter() \n",
    "counter()\n",
    "counter()"
   ]
  },
  {
   "cell_type": "code",
   "execution_count": 14,
   "metadata": {},
   "outputs": [
    {
     "output_type": "stream",
     "name": "stdout",
     "text": [
      "hello\n"
     ]
    }
   ],
   "source": [
    "def myfunc1():\n",
    "  x = \"hi\"\n",
    "  def myfunc2():\n",
    "    nonlocal x\n",
    "    x = \"hello\"\n",
    "  myfunc2() \n",
    "  return x\n",
    "print(myfunc1())"
   ]
  },
  {
   "cell_type": "code",
   "execution_count": 15,
   "metadata": {},
   "outputs": [
    {
     "output_type": "stream",
     "name": "stdout",
     "text": [
      "hi\n"
     ]
    }
   ],
   "source": [
    "def myfunc1():\n",
    "  x = \"hi\"\n",
    "  def myfunc2():\n",
    "    #nonlocal x\n",
    "    x = \"hello\"\n",
    "  myfunc2()\n",
    "  return x\n",
    "print(myfunc1())"
   ]
  },
  {
   "cell_type": "code",
   "execution_count": 16,
   "metadata": {},
   "outputs": [
    {
     "output_type": "stream",
     "name": "stdout",
     "text": [
      "My name is Richard\n"
     ]
    }
   ],
   "source": [
    "x = 'My name is Richard'\n",
    "def my_function_1(): \n",
    "    x = 'My name is John'    \n",
    "print(x) "
   ]
  },
  {
   "cell_type": "code",
   "execution_count": 2,
   "metadata": {},
   "outputs": [
    {
     "output_type": "stream",
     "name": "stdout",
     "text": [
      "I love London!\n"
     ]
    }
   ],
   "source": [
    "city = \"I love Paris!\"\n",
    "def my_function(): \n",
    "    city = \"I love London!\"\n",
    "    print(city)    \n",
    "my_function()"
   ]
  },
  {
   "cell_type": "code",
   "execution_count": 19,
   "metadata": {},
   "outputs": [
    {
     "output_type": "stream",
     "name": "stdout",
     "text": [
      "inner: later\nouter: later\n"
     ]
    }
   ],
   "source": [
    "def outer():\n",
    "    x = \"previous\"    \n",
    "    def inner():\n",
    "        nonlocal x\n",
    "        x = \"later\"\n",
    "        print(\"inner:\", x)    \n",
    "    inner()\n",
    "    print(\"outer:\", x)\n",
    "outer()"
   ]
  },
  {
   "cell_type": "code",
   "execution_count": 1,
   "metadata": {},
   "outputs": [
    {
     "output_type": "stream",
     "name": "stdout",
     "text": [
      "<class 'map'>\n[1, 4, 9, 16, 25]\n[1, 4, 9, 16, 25]\n"
     ]
    }
   ],
   "source": [
    "iterable = [1, 2, 3, 4, 5]\n",
    "map(lambda x:x**2, iterable)\n",
    "result = map(lambda x:x**2, iterable)\n",
    "print(type(result))  # it's a map type\n",
    "print(list(result))  # we've converted it to list type to print\n",
    "print(list(map(lambda x:x**2, iterable)))  # you can print directly"
   ]
  },
  {
   "cell_type": "code",
   "execution_count": 2,
   "metadata": {},
   "outputs": [
    {
     "output_type": "stream",
     "name": "stdout",
     "text": [
      "[1, 4, 9, 16, 25]\n"
     ]
    }
   ],
   "source": [
    "def square(n):   # at least two additional lines of code\n",
    "    return n**2   \n",
    "iterable = [1, 2, 3, 4, 5]\n",
    "result = map(square, iterable) \n",
    "print(list(result))"
   ]
  },
  {
   "cell_type": "code",
   "execution_count": 3,
   "metadata": {},
   "outputs": [
    {
     "output_type": "stream",
     "name": "stdout",
     "text": [
      "['one', 'six', 'ten', 'two']\n"
     ]
    }
   ],
   "source": [
    "letter1 = ['o', 's', 't', 't']\n",
    "letter2 = ['n', 'i', 'e', 'w']\n",
    "letter3 = ['e', 'x', 'n', 'o']\n",
    "numbers = map(lambda x, y, z: x+y+z, letter1, letter2, letter3)\n",
    "print(list(numbers))"
   ]
  },
  {
   "cell_type": "code",
   "execution_count": 4,
   "metadata": {},
   "outputs": [
    {
     "output_type": "stream",
     "name": "stdout",
     "text": [
      "<class 'filter'>\nEven numbers are : [0, 2, 4, 6, 8]\n"
     ]
    }
   ],
   "source": [
    "first_ten = [0, 1, 2, 3, 4, 5, 6, 7, 8, 9]  \n",
    "even = filter(lambda x:x%2==0, first_ten) \n",
    "print(type(even))  # it's 'filter' type, \n",
    "                   # in order to print the result,\n",
    "                   # we'd better convert it into the list type\n",
    "print('Even numbers are :', list(even))"
   ]
  },
  {
   "cell_type": "code",
   "execution_count": 5,
   "metadata": {},
   "outputs": [
    {
     "output_type": "stream",
     "name": "stdout",
     "text": [
      "Vowels are : ['a', 'e', 'i']\n"
     ]
    }
   ],
   "source": [
    "vowel_list = ['a', 'e', 'i', 'o', 'u']\n",
    "first_ten = ['a', 'b', 'c', 'd', 'e', 'f', 'g', 'h', 'i', 'j']  \n",
    "vowels = filter(lambda x: True if x in vowel_list else False, first_ten) \n",
    "print('Vowels are :', list(vowels))"
   ]
  },
  {
   "cell_type": "code",
   "execution_count": 6,
   "metadata": {},
   "outputs": [
    {
     "output_type": "stream",
     "name": "stdout",
     "text": [
      "[6, 7, 8, 9, 10]\n"
     ]
    }
   ],
   "source": [
    "number_list = [1, 2, 3, 4, 5, 6, 7, 8, 9, 10]\n",
    "result = list(filter(lambda x : True if x >= 6 else False, number_list)) \n",
    "print(result)"
   ]
  },
  {
   "cell_type": "code",
   "execution_count": 7,
   "metadata": {},
   "outputs": [
    {
     "output_type": "stream",
     "name": "stdout",
     "text": [
      "4\n8\n16\n"
     ]
    }
   ],
   "source": [
    "def modular_function(n):\n",
    "    return lambda x: x ** n    \n",
    "power_of_2 = modular_function(2)  # first sub-function derived from def\n",
    "power_of_3 = modular_function(3)  # second sub-function derived from def\n",
    "power_of_4 = modular_function(4)  # third sub-function derived from def\n",
    "print(power_of_2(2))  # 2 to the power of 2\n",
    "print(power_of_3(2))  # 2 to the power of 3\n",
    "print(power_of_4(2))  # 2 to the power of 4"
   ]
  },
  {
   "cell_type": "code",
   "execution_count": 8,
   "metadata": {},
   "outputs": [
    {
     "output_type": "stream",
     "name": "stdout",
     "text": [
      "alex alex \nlara lara lara \nlinda linda linda linda \n"
     ]
    }
   ],
   "source": [
    "def repeater(n):\n",
    "    return lambda x: x * n    \n",
    "repeat_2_times = repeater(2)  # repeats 2 times\n",
    "repeat_3_times = repeater(3)  # repeats 3 times\n",
    "repeat_4_times = repeater(4)  # repeats 4 times\n",
    "print(repeat_2_times('alex '))\n",
    "print(repeat_3_times('lara '))\n",
    "print(repeat_4_times('linda '))"
   ]
  },
  {
   "cell_type": "code",
   "execution_count": 9,
   "metadata": {},
   "outputs": [
    {
     "output_type": "stream",
     "name": "stdout",
     "text": [
      "125\n"
     ]
    }
   ],
   "source": [
    "def modular_function(n):\n",
    "    return lambda x: x ** n\n",
    "power_of_3 = modular_function(3)\n",
    "print(power_of_3(5))"
   ]
  },
  {
   "cell_type": "code",
   "execution_count": 10,
   "metadata": {},
   "outputs": [
    {
     "output_type": "stream",
     "name": "stdout",
     "text": [
      "9.0\n"
     ]
    }
   ],
   "source": [
    "mean = lambda x, y: (x+y)/2\n",
    "print(mean(8, 10))"
   ]
  },
  {
   "cell_type": "code",
   "execution_count": 11,
   "metadata": {},
   "outputs": [
    {
     "output_type": "stream",
     "name": "stdout",
     "text": [
      "45\n"
     ]
    }
   ],
   "source": [
    "multiply = lambda x: x * 4\n",
    "add = lambda x, y: x + y\n",
    "print(add(multiply(10), 5))"
   ]
  },
  {
   "cell_type": "code",
   "execution_count": 12,
   "metadata": {},
   "outputs": [
    {
     "output_type": "stream",
     "name": "stdout",
     "text": [
      "[1, 8, 27, 64]\n"
     ]
    }
   ],
   "source": [
    "number_list = [1, 2, 3, 4]\n",
    "result = map(lambda x:x**3, number_list)\n",
    "print(list(result)) "
   ]
  },
  {
   "cell_type": "code",
   "execution_count": 13,
   "metadata": {},
   "outputs": [
    {
     "output_type": "stream",
     "name": "stdout",
     "text": [
      "[0, 3, 6, 9, 12]\n"
     ]
    }
   ],
   "source": [
    "number_list = [0, 1, 2, 3, 4, 5, 6, 7, 8, 9, 10, 11, 12] \n",
    "divisible_list = filter(lambda x:x%3==0, number_list) \n",
    "print(list(divisible_list))"
   ]
  },
  {
   "cell_type": "code",
   "execution_count": 14,
   "metadata": {},
   "outputs": [
    {
     "output_type": "stream",
     "name": "stdout",
     "text": [
      "[1, 4, 9, 16, 25]\n"
     ]
    }
   ],
   "source": [
    "number_list=[1, 2, 3, 4, 5]\n",
    "result= list(map(lambda x: x**2, number_list))\n",
    "print(result)"
   ]
  },
  {
   "cell_type": "code",
   "execution_count": 16,
   "metadata": {},
   "outputs": [
    {
     "output_type": "stream",
     "name": "stdout",
     "text": [
      "[1, 3, 5, 7, 9]\n"
     ]
    }
   ],
   "source": [
    "number_list=[1, 2, 3, 4, 5, 6, 7, 8, 9, 10]\n",
    "result= list(filter(lambda x : True if x%2 != 0 else False, number_list))\n",
    "print(result)"
   ]
  },
  {
   "cell_type": "code",
   "execution_count": 34,
   "metadata": {},
   "outputs": [
    {
     "output_type": "stream",
     "name": "stdout",
     "text": [
      "[['S', 'W', 'A', 'Y'], 4]\n"
     ]
    }
   ],
   "source": [
    "list_1 = [['C', 'L'], ['A', 'R', 'U'], ['S', 'W', 'A', 'Y']]\n",
    "result_1 = ((lambda x : x[2])(list_1))\n",
    "result_2 = len(result_1)\n",
    "print([result_1, result_2])"
   ]
  },
  {
   "cell_type": "code",
   "execution_count": 37,
   "metadata": {},
   "outputs": [
    {
     "output_type": "stream",
     "name": "stdout",
     "text": [
      "['S', 'W', 'A', 'Y']\n"
     ]
    }
   ],
   "source": [
    "list_1 = [['C', 'L'], ['A', 'R', 'U'], ['S', 'W', 'A', 'Y']]\n",
    "#result_1 = ((lambda x : max(x, key=len(x)))(list_1))\n",
    "#result_2 = len(result_1)\n",
    "print(max(list_1, key=len))"
   ]
  },
  {
   "cell_type": "code",
   "execution_count": 42,
   "metadata": {},
   "outputs": [
    {
     "output_type": "stream",
     "name": "stdout",
     "text": [
      "(['S', 'W', 'A', 'Y'], 4)\n"
     ]
    }
   ],
   "source": [
    "list_1 = [['C', 'L'], ['A', 'R', 'U'], ['S', 'W', 'A', 'Y']]\n",
    "result_1 = ((lambda x : max(x, key=len) )(list_1))\n",
    "result_2 = len(result_1)\n",
    "result_3 = (result_1, result_2)\n",
    "print(result_3)"
   ]
  },
  {
   "cell_type": "code",
   "execution_count": 43,
   "metadata": {},
   "outputs": [
    {
     "output_type": "stream",
     "name": "stdout",
     "text": [
      "([2, 3, 5, 1], 4)\n"
     ]
    }
   ],
   "source": [
    "list_1 = [[2, 3, 5, 1], [0, 2], [1]]\n",
    "result_1 = ((lambda x : max(x, key=len) )(list_1))\n",
    "result_2 = len(result_1)\n",
    "result_3 = (result_1, result_2)\n",
    "print(result_3)"
   ]
  },
  {
   "cell_type": "code",
   "execution_count": 3,
   "metadata": {},
   "outputs": [
    {
     "output_type": "stream",
     "name": "stdout",
     "text": [
      "True\nFalse\nFalse\n"
     ]
    }
   ],
   "source": [
    "def parrot_trouble(talking, hour):\n",
    "    if talking == True:\n",
    "        if hour < 6 or hour > 21:\n",
    "            return True\n",
    "        else:\n",
    "            return False\n",
    "    else:\n",
    "        return False\n",
    "print(parrot_trouble(True, 5))\n",
    "print(parrot_trouble(True, 8))\n",
    "print(parrot_trouble(False, 22))"
   ]
  },
  {
   "cell_type": "code",
   "execution_count": 23,
   "metadata": {},
   "outputs": [
    {
     "output_type": "stream",
     "name": "stdout",
     "text": [
      "6\n"
     ]
    }
   ],
   "source": [
    "def func(x):\n",
    "    res = 0\n",
    "    for i in range(x):\n",
    "        res += i\n",
    "    return res\n",
    "print(func(4))"
   ]
  },
  {
   "cell_type": "code",
   "execution_count": 24,
   "metadata": {},
   "outputs": [
    {
     "output_type": "stream",
     "name": "stdout",
     "text": [
      "0\n\n0\n1\n\n1\n2\n\n3\n3\n\n6\n"
     ]
    }
   ],
   "source": [
    "def func(x):\n",
    "    res = 0\n",
    "    for i in range(x):\n",
    "        res += i\n",
    "        print(i)\n",
    "        print()\n",
    "        print(res)    \n",
    "func(4)"
   ]
  },
  {
   "cell_type": "code",
   "execution_count": 26,
   "metadata": {},
   "outputs": [
    {
     "output_type": "stream",
     "name": "stdout",
     "text": [
      "96.8\n"
     ]
    }
   ],
   "source": [
    "celsius = int(input())\n",
    "def conv(c):\n",
    "    fahr = 9/5 * c + 32\n",
    "    return fahr\n",
    "print(conv(celsius))"
   ]
  },
  {
   "cell_type": "code",
   "execution_count": 5,
   "metadata": {},
   "outputs": [
    {
     "output_type": "stream",
     "name": "stdout",
     "text": [
      "file1.txt\nfile2.txt\nfile3.txt\nfile4.txt\nfile5.txt\n"
     ]
    }
   ],
   "source": [
    "# Reading File\n",
    "import os\n",
    "filepath = \"WorkingFolder/\"\n",
    "path = os.listdir(filepath)\n",
    "for content in path:\n",
    "    print(content)"
   ]
  },
  {
   "cell_type": "code",
   "execution_count": 3,
   "metadata": {},
   "outputs": [
    {
     "output_type": "stream",
     "name": "stdout",
     "text": [
      "file1.txt : 2 changes\nfile2.txt : 2 changes\nfile3.txt : 2 changes\nfile4.txt : 2 changes\nfile5.txt : 2 changes\nTotally 5 files changed.\n"
     ]
    }
   ],
   "source": [
    "import os\n",
    "filepath = \"WorkingFolder/\"\n",
    "path = os.listdir(filepath)\n",
    "current = \"xxxx\"\n",
    "new = \"sing\"\n",
    "total = 0\n",
    "for content in path:\n",
    "    counter = 0\n",
    "    with open(filepath + content, \"r\", encoding=\"utf-8\") as file:\n",
    "        result = file.read()\n",
    "        counter = result.count(current)\n",
    "    result = result.replace(current, new)\n",
    "    with open(filepath + content, \"w\", encoding=\"utf-8\") as newFile:\n",
    "        newFile.write(result)\n",
    "    if counter:\n",
    "        print(content, \":\", counter, \"changes\")\n",
    "        total += 1\n",
    "print(\"Totally\", total, \"files changed.\")"
   ]
  },
  {
   "cell_type": "code",
   "execution_count": 12,
   "metadata": {},
   "outputs": [
    {
     "output_type": "stream",
     "name": "stdout",
     "text": [
      "not sugar\nnot x\nnot bad\n"
     ]
    }
   ],
   "source": [
    "# Assignment - 3 (Negative Meaning)\n",
    "def not_string(word):    \n",
    "        if word.startswith(\"not\"):\n",
    "            return word\n",
    "        else:\n",
    "            return \"not \" + word\n",
    "print(not_string('sugar'))\n",
    "print(not_string('x'))\n",
    "print(not_string('not bad'))"
   ]
  },
  {
   "cell_type": "code",
   "execution_count": 30,
   "metadata": {},
   "outputs": [
    {
     "output_type": "stream",
     "name": "stdout",
     "text": [
      "pecil\n"
     ]
    }
   ],
   "source": [
    "# Assignment - 4 (Missing Char)\n",
    "def missing_char(word, n):\n",
    "    return word.replace(word[n], '')\n",
    "print(missing_char(\"pencil\", 2))"
   ]
  },
  {
   "cell_type": "code",
   "execution_count": 31,
   "metadata": {},
   "outputs": [
    {
     "output_type": "stream",
     "name": "stdout",
     "text": [
      "1800 is not a leap year\n"
     ]
    }
   ],
   "source": [
    "# Leap Year\n",
    "year = int(input(\"Enter a year : \"))\n",
    "if (year % 400 == 0) or (not year % 100 == 0 and year % 4 == 0):\n",
    "    print(f\"{year} is a leap year\")\n",
    "else :\n",
    "    print(f\"{year} is not a leap year\")"
   ]
  },
  {
   "cell_type": "code",
   "execution_count": 4,
   "metadata": {},
   "outputs": [
    {
     "output_type": "stream",
     "name": "stdout",
     "text": [
      "['Ann', 'Tom', 3, 9]\n"
     ]
    }
   ],
   "source": [
    "# Intersection List Without \"Set\"\n",
    "list_1 = [\"Ann\", \"Kevin\", \"Tom\", 3, 5, 9]\n",
    "list_2 = [\"John\", \"Tom\", 3, 6, 9, \"Ann\"]\n",
    "list_3 = []\n",
    "for i in list_1:\n",
    "    for ii in list_2:\n",
    "        if i == ii:\n",
    "            list_3.append(i)        \n",
    "print(list_3)"
   ]
  },
  {
   "cell_type": "code",
   "execution_count": 9,
   "metadata": {},
   "outputs": [
    {
     "output_type": "stream",
     "name": "stdout",
     "text": [
      "Peecil\n"
     ]
    }
   ],
   "source": [
    "# Replace Letter W2 With W1\n",
    "print((lambda x : x.replace(x[2], x[1]))(\"Pencil\"))"
   ]
  },
  {
   "cell_type": "code",
   "execution_count": 42,
   "metadata": {},
   "outputs": [
    {
     "output_type": "stream",
     "name": "stdout",
     "text": [
      "785\n"
     ]
    }
   ],
   "source": [
    "# Check input value like as numeric\n",
    "def num_value():\n",
    "    x = input(\"Enter a numeric value: \")\n",
    "    while True:\n",
    "        if x.isdigit():\n",
    "            return x\n",
    "            break\n",
    "        else:\n",
    "            x = input(\"It is not valid number. Please a numeric value: \")\n",
    "print(num_value())"
   ]
  },
  {
   "cell_type": "code",
   "execution_count": null,
   "metadata": {},
   "outputs": [],
   "source": [
    "# Palindrome Alfanumeric\n",
    "def palindrome(x):    "
   ]
  },
  {
   "cell_type": "code",
   "execution_count": 10,
   "metadata": {},
   "outputs": [
    {
     "output_type": "stream",
     "name": "stdout",
     "text": [
      "not\n"
     ]
    }
   ],
   "source": [
    "# Palindrome Alfanumeric 2\n",
    "alf_num = input(\"Enter a sentence: \")\n",
    "variable = list(alf_num.lower())\n",
    "for i in variable:\n",
    "    if i == \" \" or i == \",\" or i == \".\": \n",
    "        variable.remove(i)        \n",
    "if variable[::1] == variable[::-1]:\n",
    "    print(\"The sentence is polidrome\")\n",
    "else:\n",
    "    print(\"The sentence is not polidrome\")"
   ]
  },
  {
   "cell_type": "code",
   "execution_count": 11,
   "metadata": {},
   "outputs": [
    {
     "output_type": "stream",
     "name": "stdout",
     "text": [
      "{'h': 1, 'i': 1, 'p': 2, 'o': 2, ' ': 3, 'r': 1, 'u': 2, 'n': 1, 's': 2, 't': 1, '!': 1}\n"
     ]
    }
   ],
   "source": [
    "# Assignment - 007/9 (Letters Count)\n",
    "sentence = \"hippo runs to us!\"\n",
    "list_1 = list(sentence)\n",
    "dict_1 = {}\n",
    "for i in list_1:\n",
    "    dict_1[i] = list_1.count(i)\n",
    "print(dict_1)"
   ]
  },
  {
   "cell_type": "code",
   "execution_count": 1,
   "metadata": {},
   "outputs": [
    {
     "output_type": "error",
     "ename": "SyntaxError",
     "evalue": "invalid syntax (<ipython-input-1-dd3c9e1753a5>, line 1)",
     "traceback": [
      "\u001b[1;36m  File \u001b[1;32m\"<ipython-input-1-dd3c9e1753a5>\"\u001b[1;36m, line \u001b[1;32m1\u001b[0m\n\u001b[1;33m    func_1 = lambda X : return x\u001b[0m\n\u001b[1;37m                        ^\u001b[0m\n\u001b[1;31mSyntaxError\u001b[0m\u001b[1;31m:\u001b[0m invalid syntax\n"
     ]
    }
   ],
   "source": [
    "func_1 = lambda X : return x\n",
    "print(func_1(2))"
   ]
  },
  {
   "cell_type": "code",
   "execution_count": 16,
   "metadata": {},
   "outputs": [
    {
     "output_type": "stream",
     "name": "stdout",
     "text": [
      "0 0 0 | 0 6 4 | 0 0 0\n7 0 0 | 0 0 0 | 3 9 0\n8 0 0 | 0 0 0 | 0 0 0\n0 0 0 | 5 0 2 | 0 6 0\n0 8 0 | 4 0 0 | 0 0 0\n3 5 0 | 6 0 0 | 0 7 0\n0 0 2 | 0 0 0 | 1 0 3\n0 0 1 | 0 5 9 | 0 0 0\n0 0 0 | 0 0 0 | 7 0 0\n"
     ]
    }
   ],
   "source": [
    "# Assignment - 007/10 (Sudoku Displayer)\n",
    "sudoku = [\n",
    "    [0, 0, 0, 0, 6, 4, 0, 0, 0],\n",
    "    [7, 0, 0, 0, 0, 0, 3, 9, 0],\n",
    "    [8, 0, 0, 0, 0, 0, 0, 0, 0],\n",
    "    [0, 0, 0, 5, 0, 2, 0, 6, 0],\n",
    "    [0, 8, 0, 4, 0, 0, 0, 0, 0],\n",
    "    [3, 5, 0, 6, 0, 0, 0, 7, 0],\n",
    "    [0, 0, 2, 0, 0, 0, 1, 0, 3],\n",
    "    [0, 0, 1, 0, 5, 9, 0, 0, 0],\n",
    "    [0, 0, 0, 0, 0, 0, 7, 0, 0]\n",
    "]\n",
    "count1 = 0\n",
    "count2 = 0\n",
    "for i in sudoku:\n",
    "    count2 = 0\n",
    "    for j in i:\n",
    "        if count2 == 2 or count2 == 5:\n",
    "            print(j,\"|\", end=\" \")\n",
    "        elif count2 == 8:\n",
    "            print(j, end=\"\\n\")\n",
    "        else:\n",
    "            print(j, end=\" \")\n",
    "        count2 += 1"
   ]
  },
  {
   "cell_type": "code",
   "execution_count": 14,
   "metadata": {},
   "outputs": [
    {
     "output_type": "stream",
     "name": "stdout",
     "text": [
      "ylaruswac\na\nba\n"
     ]
    }
   ],
   "source": [
    "# Assignment - 5 (Front-Back Char)\n",
    "def front_back(word):\n",
    "    a = word[0]\n",
    "    b = word[-1]\n",
    "    c = word[1:-1]\n",
    "    if b == a:\n",
    "        return word\n",
    "    else:\n",
    "        return b+c+a\n",
    "print(front_back('clarusway'))\n",
    "print(front_back('a'))\n",
    "print(front_back('ab'))"
   ]
  },
  {
   "cell_type": "code",
   "execution_count": 13,
   "metadata": {},
   "outputs": [
    {
     "output_type": "stream",
     "name": "stdout",
     "text": [
      "5\n-9\n-100\n"
     ]
    }
   ],
   "source": [
    "# Assignment - 6 (Find Minimum)\n",
    "def my_min(*x):\n",
    "    return min(x)\n",
    "print(my_min(5,6,7))\n",
    "print(my_min(3,8,-9,0,12,1.2))\n",
    "print(my_min(-100))"
   ]
  },
  {
   "cell_type": "code",
   "execution_count": 38,
   "metadata": {},
   "outputs": [
    {
     "output_type": "stream",
     "name": "stdout",
     "text": [
      "- - - - - - - - - - - - - - - - \n0  0  0  |  0  6  4  |  0  0  0\n7  0  0  |  0  0  0  |  3  9  0\n8  0  0  |  0  0  0  |  0  0  0\n- - - - - - - - - - - - - - - - \n0  0  0  |  5  0  2  |  0  6  0\n0  8  0  |  4  0  0  |  0  0  0\n3  5  0  |  6  0  0  |  0  7  0\n- - - - - - - - - - - - - - - - \n0  0  2  |  0  0  0  |  1  0  3\n0  0  1  |  0  5  9  |  0  0  0\n0  0  0  |  0  0  0  |  7  0  0\n- - - - - - - - - - - - - - - - "
     ]
    }
   ],
   "source": [
    "# Assignment - 007/10 (Sudoku Displayer)\n",
    "sudoku = [\n",
    "    [0, 0, 0, 0, 6, 4, 0, 0, 0],\n",
    "    [7, 0, 0, 0, 0, 0, 3, 9, 0],\n",
    "    [8, 0, 0, 0, 0, 0, 0, 0, 0],\n",
    "    [0, 0, 0, 5, 0, 2, 0, 6, 0],\n",
    "    [0, 8, 0, 4, 0, 0, 0, 0, 0],\n",
    "    [3, 5, 0, 6, 0, 0, 0, 7, 0],\n",
    "    [0, 0, 2, 0, 0, 0, 1, 0, 3],\n",
    "    [0, 0, 1, 0, 5, 9, 0, 0, 0],\n",
    "    [0, 0, 0, 0, 0, 0, 7, 0, 0]\n",
    "]\n",
    "count1 = 0\n",
    "for i in sudoku:\n",
    "    if count1 == 0 or count1 == 3 or count1 == 6:\n",
    "        for x in range(16):\n",
    "            print(\"-\", end=\" \")\n",
    "        print(end=\"\\n\")\n",
    "    count2 = 0\n",
    "    for j in i:\n",
    "        if count2 == 2 or count2 == 5:\n",
    "            print(j,\" |\", end=\"  \")\n",
    "        elif count2 == 8:\n",
    "            print(j, end=\"\\n\")\n",
    "        else:\n",
    "            print(j, end=\"  \")\n",
    "        count2 += 1\n",
    "    count1 +=1\n",
    "    if count1 == 9:\n",
    "        for x in range(16):\n",
    "            print(\"-\", end=\" \")"
   ]
  },
  {
   "cell_type": "code",
   "execution_count": 4,
   "metadata": {},
   "outputs": [
    {
     "output_type": "stream",
     "name": "stdout",
     "text": [
      "There is not such a file  or path is incorrect\n"
     ]
    }
   ],
   "source": [
    "try:\n",
    "  with open(\"my_file.txt\", \"r\", encoding=\"utf-8\") as file:\n",
    "      print(file.read())\n",
    "except:\n",
    "  print(\"There is not such a file  or path is incorrect\")"
   ]
  },
  {
   "cell_type": "code",
   "execution_count": 5,
   "metadata": {},
   "outputs": [
    {
     "output_type": "stream",
     "name": "stdout",
     "text": [
      "There is not such a file  or path is incorrect\n"
     ]
    }
   ],
   "source": [
    "try:\n",
    "  with open(\"my_file.txt\", \"r\", encoding=\"utf-8\") as file:\n",
    "      print(file.read())\n",
    "except FileNotFoundError:\n",
    "  print(\"There is not such a file  or path is incorrect\")"
   ]
  },
  {
   "cell_type": "code",
   "execution_count": 2,
   "metadata": {},
   "outputs": [
    {
     "output_type": "stream",
     "name": "stdout",
     "text": [
      "Here we go!\nI will be the second text\nIt is time for an error message :(\nSorry, but I won't be printed\n"
     ]
    },
    {
     "output_type": "error",
     "ename": "TypeError",
     "evalue": "can only concatenate str (not \"int\") to str",
     "traceback": [
      "\u001b[1;31m---------------------------------------------------------------------------\u001b[0m",
      "\u001b[1;31mTypeError\u001b[0m                                 Traceback (most recent call last)",
      "\u001b[1;32m<ipython-input-2-ac5dd198d96d>\u001b[0m in \u001b[0;36m<module>\u001b[1;34m\u001b[0m\n\u001b[0;32m      5\u001b[0m \u001b[0mprint\u001b[0m\u001b[1;33m(\u001b[0m\u001b[1;34m'It is time for an error message :('\u001b[0m\u001b[1;33m)\u001b[0m\u001b[1;33m\u001b[0m\u001b[1;33m\u001b[0m\u001b[0m\n\u001b[0;32m      6\u001b[0m \u001b[0mprint\u001b[0m\u001b[1;33m(\u001b[0m\u001b[1;34m\"Sorry, but I won't be printed\"\u001b[0m\u001b[1;33m)\u001b[0m\u001b[1;33m\u001b[0m\u001b[1;33m\u001b[0m\u001b[0m\n\u001b[1;32m----> 7\u001b[1;33m \u001b[0mprint\u001b[0m\u001b[1;33m(\u001b[0m\u001b[0ma\u001b[0m \u001b[1;33m+\u001b[0m \u001b[0mb\u001b[0m\u001b[1;33m)\u001b[0m  \u001b[1;31m# it won't be printed\u001b[0m\u001b[1;33m\u001b[0m\u001b[1;33m\u001b[0m\u001b[0m\n\u001b[0m",
      "\u001b[1;31mTypeError\u001b[0m: can only concatenate str (not \"int\") to str"
     ]
    }
   ],
   "source": [
    "print('Here we go!')\n",
    "print('I will be the second text')\n",
    "a = '3'\n",
    "b = 5\n",
    "print('It is time for an error message :(')\n",
    "print(\"Sorry, but I won't be printed\")\n",
    "print(a + b)  # it won't be printed"
   ]
  },
  {
   "cell_type": "code",
   "execution_count": 3,
   "metadata": {},
   "outputs": [
    {
     "output_type": "stream",
     "name": "stdout",
     "text": [
      "Here we go!\nI will be the second text\nIt is time for an error message :(\n"
     ]
    },
    {
     "output_type": "error",
     "ename": "TypeError",
     "evalue": "can only concatenate str (not \"int\") to str",
     "traceback": [
      "\u001b[1;31m---------------------------------------------------------------------------\u001b[0m",
      "\u001b[1;31mTypeError\u001b[0m                                 Traceback (most recent call last)",
      "\u001b[1;32m<ipython-input-3-c9fd59ffa92d>\u001b[0m in \u001b[0;36m<module>\u001b[1;34m\u001b[0m\n\u001b[0;32m      4\u001b[0m \u001b[0mb\u001b[0m \u001b[1;33m=\u001b[0m \u001b[1;36m5\u001b[0m\u001b[1;33m\u001b[0m\u001b[1;33m\u001b[0m\u001b[0m\n\u001b[0;32m      5\u001b[0m \u001b[0mprint\u001b[0m\u001b[1;33m(\u001b[0m\u001b[1;34m'It is time for an error message :('\u001b[0m\u001b[1;33m)\u001b[0m\u001b[1;33m\u001b[0m\u001b[1;33m\u001b[0m\u001b[0m\n\u001b[1;32m----> 6\u001b[1;33m \u001b[0mprint\u001b[0m\u001b[1;33m(\u001b[0m\u001b[0ma\u001b[0m \u001b[1;33m+\u001b[0m \u001b[0mb\u001b[0m\u001b[1;33m)\u001b[0m  \u001b[1;31m# it won't be printed\u001b[0m\u001b[1;33m\u001b[0m\u001b[1;33m\u001b[0m\u001b[0m\n\u001b[0m\u001b[0;32m      7\u001b[0m \u001b[0mprint\u001b[0m\u001b[1;33m(\u001b[0m\u001b[1;34m\"Sorry, but I won't be printed\"\u001b[0m\u001b[1;33m)\u001b[0m\u001b[1;33m\u001b[0m\u001b[1;33m\u001b[0m\u001b[0m\n",
      "\u001b[1;31mTypeError\u001b[0m: can only concatenate str (not \"int\") to str"
     ]
    }
   ],
   "source": [
    "print('Here we go!')\n",
    "print('I will be the second text')\n",
    "a = '3'\n",
    "b = 5\n",
    "print('It is time for an error message :(')\n",
    "print(a + b)  # it won't be printed \n",
    "print(\"Sorry, but I won't be printed\") # it won't be printed because error raised before"
   ]
  },
  {
   "cell_type": "code",
   "execution_count": 19,
   "metadata": {},
   "outputs": [
    {
     "output_type": "stream",
     "name": "stdout",
     "text": [
      "[1, 2, 3, 4, 5, 6]\n"
     ]
    }
   ],
   "source": [
    "# Example 1\n",
    "x = [([1], [2, 3], (4, 5, 6))]\n",
    "a = []\n",
    "for i in x:\n",
    "    for j in i:\n",
    "        for z in j:\n",
    "            a.append(z)\n",
    "print(a)"
   ]
  },
  {
   "cell_type": "code",
   "execution_count": 25,
   "metadata": {},
   "outputs": [
    {
     "output_type": "execute_result",
     "data": {
      "text/plain": [
       "[1, 2, 3, 4, 5, 6]"
      ]
     },
     "metadata": {},
     "execution_count": 25
    }
   ],
   "source": [
    "x = [([1], [2, 3], (4, 5, 6))]\n",
    "[z for i in x for j in i for z in j]"
   ]
  },
  {
   "cell_type": "code",
   "execution_count": 26,
   "metadata": {},
   "outputs": [
    {
     "output_type": "execute_result",
     "data": {
      "text/plain": [
       "{1, 2, 3, 4, 5, 6}"
      ]
     },
     "metadata": {},
     "execution_count": 26
    }
   ],
   "source": [
    "x = [([1], [2, 3], (4, 5, 6))]\n",
    "{z for i in x for j in i for z in j}"
   ]
  },
  {
   "cell_type": "code",
   "execution_count": 30,
   "metadata": {},
   "outputs": [
    {
     "output_type": "stream",
     "name": "stdout",
     "text": [
      "<generator object <genexpr> at 0x000001732E6F9DD0>\n"
     ]
    }
   ],
   "source": [
    "my_list = [1, 2, 3, 10]\n",
    "a = (x**2 for x in my_list)\n",
    "print(a)"
   ]
  },
  {
   "cell_type": "code",
   "execution_count": 29,
   "metadata": {},
   "outputs": [
    {
     "output_type": "stream",
     "name": "stdout",
     "text": [
      "1\n4\n9\n100\n"
     ]
    }
   ],
   "source": [
    "my_list = [1, 2, 3, 10]\n",
    "a = (x**2 for x in my_list)\n",
    "print(next(a)) # next function iterated from generator object\n",
    "print(next(a))\n",
    "print(next(a))\n",
    "print(next(a))"
   ]
  },
  {
   "cell_type": "code",
   "execution_count": 34,
   "metadata": {},
   "outputs": [
    {
     "output_type": "stream",
     "name": "stdout",
     "text": [
      "True\n"
     ]
    }
   ],
   "source": [
    "# Google, Yahoo, Spotfy vs. Interview Question\n",
    "p = \"([{()}])\"\n",
    "while \"()\"in p or \"[]\" in p or \"{}\" in p:\n",
    "    p = p.replace(\"()\", \"\").replace(\"[]\", \"\").replace(\"{}\", \"\")\n",
    "print(p==\"\")"
   ]
  },
  {
   "cell_type": "code",
   "execution_count": 48,
   "metadata": {
    "tags": []
   },
   "outputs": [
    {
     "output_type": "stream",
     "name": "stdout",
     "text": [
      "i[:0] : \ni[0:] : ()\n + () + () = ['()()']\ni[:1] : (\ni[1:] : )\n( + () + ) = ['()()', '(())']\nlast iterate: ['()()', '(())']\ni[:0] : \ni[0:] : ()()\n + () + ()() = ['()()()']\ni[:1] : (\ni[1:] : )()\n( + () + )() = ['()()()', '(())()']\ni[:2] : ()\ni[2:] : ()\n() + () + () = ['()()()', '(())()', '()()()']\ni[:3] : ()(\ni[3:] : )\n()( + () + ) = ['()()()', '(())()', '()()()', '()(())']\ni[:0] : \ni[0:] : (())\n + () + (()) = ['()()()', '(())()', '()()()', '()(())', '()(())']\ni[:1] : (\ni[1:] : ())\n( + () + ()) = ['()()()', '(())()', '()()()', '()(())', '()(())', '(()())']\ni[:2] : ((\ni[2:] : ))\n(( + () + )) = ['()()()', '(())()', '()()()', '()(())', '()(())', '(()())', '((()))']\ni[:3] : (()\ni[3:] : )\n(() + () + ) = ['()()()', '(())()', '()()()', '()(())', '()(())', '(()())', '((()))', '(()())']\nlast iterate: ['()()()', '(())()', '()()()', '()(())', '()(())', '(()())', '((()))', '(()())']\n"
     ]
    },
    {
     "output_type": "execute_result",
     "data": {
      "text/plain": [
       "['()()()', '(())()', '(()())', '()(())', '((()))']"
      ]
     },
     "metadata": {},
     "execution_count": 48
    }
   ],
   "source": [
    "# Parenthesis\n",
    "n = 3\n",
    "comb = ['()']\n",
    "c = 1\n",
    "while c < n:\n",
    "    temp = []\n",
    "    for i in comb:\n",
    "        for j in range(len(i)):\n",
    "            temp.append(i[:j] + '()' + i[j:])\n",
    "            print(f\"i[:{j}] :\", i[:j])\n",
    "            print(f\"i[{j}:] :\", i[j:])\n",
    "            print(i[:j], \"+ () +\", i[j:], \"=\",temp)\n",
    "    print(\"last iterate:\", temp)\n",
    "    # use the set function when n = 3\n",
    "    comb = list(set(temp))\n",
    "    c += 1\n",
    "comb if n!=0 else [\"\"]"
   ]
  },
  {
   "cell_type": "code",
   "execution_count": 47,
   "metadata": {},
   "outputs": [
    {
     "output_type": "execute_result",
     "data": {
      "text/plain": [
       "['()()()', '(())()', '(()())', '()(())', '((()))']"
      ]
     },
     "metadata": {},
     "execution_count": 47
    }
   ],
   "source": [
    "n = 3\n",
    "comb = ['()']\n",
    "c = 1\n",
    "while c < n:\n",
    "    temp = []\n",
    "    for i in comb:\n",
    "        for j in range(len(i)):\n",
    "            temp.append(i[:j] + '()' + i[j:])\n",
    "    # use the set function when n = 3\n",
    "    comb = list(set(temp))\n",
    "    c += 1\n",
    "comb if n!=0 else [\"\"]"
   ]
  },
  {
   "cell_type": "code",
   "execution_count": null,
   "metadata": {},
   "outputs": [],
   "source": []
  }
 ]
}